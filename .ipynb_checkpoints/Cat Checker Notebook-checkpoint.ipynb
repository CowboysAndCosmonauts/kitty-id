{
 "cells": [
  {
   "cell_type": "code",
   "execution_count": 37,
   "metadata": {},
   "outputs": [],
   "source": [
    "import numpy as np\n",
    "import h5py\n",
    "from data_helpers import * \n",
    "from Network import Network\n",
    "\n",
    "\n",
    "import scipy\n",
    "from skimage import transform,io\n",
    "\n",
    "import matplotlib.pyplot as plt\n",
    "\n",
    "%matplotlib inline\n",
    "plt.rcParams['figure.figsize'] = (5.0, 4.0) # set default size of plots\n",
    "plt.rcParams['image.interpolation'] = 'nearest'\n",
    "plt.rcParams['image.cmap'] = 'gray'"
   ]
  },
  {
   "cell_type": "code",
   "execution_count": 38,
   "metadata": {},
   "outputs": [],
   "source": [
    "train_set_x, train_set_y, test_set_x, test_set_y, classes = load_data()"
   ]
  },
  {
   "cell_type": "code",
   "execution_count": 39,
   "metadata": {},
   "outputs": [],
   "source": [
    "layer_sizes = [12288, 20, 7, 5, 1]"
   ]
  },
  {
   "cell_type": "code",
   "execution_count": 40,
   "metadata": {},
   "outputs": [
    {
     "name": "stdout",
     "output_type": "stream",
     "text": [
      "Cost after iteration 0: 0.672290\n",
      "Cost after iteration 100: 0.516887\n",
      "Cost after iteration 200: 0.436284\n",
      "Cost after iteration 300: 0.393352\n",
      "Cost after iteration 400: 0.279475\n",
      "Cost after iteration 500: 0.511767\n",
      "Cost after iteration 600: 0.260822\n",
      "Cost after iteration 700: 0.112174\n",
      "Cost after iteration 800: 0.068941\n",
      "Cost after iteration 900: 0.043631\n",
      "Cost after iteration 1000: 0.031419\n",
      "Cost after iteration 1100: 0.024089\n",
      "Cost after iteration 1200: 0.019201\n",
      "Cost after iteration 1300: 0.015840\n",
      "Cost after iteration 1400: 0.013414\n",
      "Cost after iteration 1500: 0.011560\n",
      "Cost after iteration 1600: 0.010141\n",
      "Cost after iteration 1700: 0.008975\n",
      "Cost after iteration 1800: 0.008042\n",
      "Cost after iteration 1900: 0.007259\n",
      "Cost after iteration 2000: 0.006604\n",
      "Cost after iteration 2100: 0.006053\n",
      "Cost after iteration 2200: 0.005564\n",
      "Cost after iteration 2300: 0.005146\n",
      "Cost after iteration 2400: 0.004772\n",
      "Cost after iteration 2500: 0.004444\n",
      "Cost after iteration 2600: 0.004157\n",
      "Cost after iteration 2700: 0.003893\n",
      "Cost after iteration 2800: 0.003660\n",
      "Cost after iteration 2900: 0.003448\n"
     ]
    }
   ],
   "source": [
    "N = Network(layer_sizes)\n",
    "model = N.train(train_set_x, train_set_y, print_cost=True)"
   ]
  },
  {
   "cell_type": "code",
   "execution_count": 41,
   "metadata": {},
   "outputs": [
    {
     "name": "stdout",
     "output_type": "stream",
     "text": [
      "Accuracy: 0.9999999999999998\n"
     ]
    }
   ],
   "source": [
    "train_accuracy = N.predict(train_set_x, train_set_y, model)"
   ]
  },
  {
   "cell_type": "code",
   "execution_count": 43,
   "metadata": {},
   "outputs": [
    {
     "name": "stdout",
     "output_type": "stream",
     "text": [
      "Accuracy: 0.68\n"
     ]
    }
   ],
   "source": [
    "test_accuracy = N.predict(test_set_x, test_set_y, model)"
   ]
  },
  {
   "cell_type": "code",
   "execution_count": 46,
   "metadata": {},
   "outputs": [
    {
     "name": "stdout",
     "output_type": "stream",
     "text": [
      "Accuracy: 1.0\n",
      "y = 1.0, your L-layer model predicts a \"cat\" picture.\n"
     ]
    },
    {
     "data": {
      "image/png": "[encoded data removed]",
      "text/plain": [
       "<Figure size 360x288 with 1 Axes>"
      ]
     },
     "metadata": {
      "needs_background": "light"
     },
     "output_type": "display_data"
    }
   ],
   "source": [
    "my_image = \"levi_2_resize.jpg\" \n",
    "my_label_y = [1] # (1 -> cat, 0 -> non-cat)\n",
    "\n",
    "fname = my_image\n",
    "image = np.array(imageio.imread(fname))\n",
    "\n",
    "my_image_flatten = image.reshape(64*64*3, 1)\n",
    "\n",
    "\n",
    "my_image = my_image_flatten/255.\n",
    "\n",
    "\n",
    "my_predicted_image = N.predict(my_image, my_label_y, model)\n",
    "\n",
    "plt.imshow(image)\n",
    "print (\"y = \" + str(np.squeeze(my_predicted_image)) + \", your L-layer model predicts a \\\"\" + classes[int(np.squeeze(my_predicted_image)),].decode(\"utf-8\") +  \"\\\" picture.\")"
   ]
  },
  {
   "cell_type": "code",
   "execution_count": 31,
   "metadata": {},
   "outputs": [
    {
     "data": {
      "text/plain": [
       "'1.4.1'"
      ]
     },
     "execution_count": 31,
     "metadata": {},
     "output_type": "execute_result"
    }
   ],
   "source": [
    "print_mislabeled_images(classes, test_x, test_y, pred_test)"
   ]
  },
  {
   "cell_type": "code",
   "execution_count": null,
   "metadata": {},
   "outputs": [],
   "source": []
  }
 ],
 "metadata": {
  "kernelspec": {
   "display_name": "Python 3",
   "language": "python",
   "name": "python3"
  },
  "language_info": {
   "codemirror_mode": {
    "name": "ipython",
    "version": 3
   },
   "file_extension": ".py",
   "mimetype": "text/x-python",
   "name": "python",
   "nbconvert_exporter": "python",
   "pygments_lexer": "ipython3",
   "version": "3.7.6"
  }
 },
 "nbformat": 4,
 "nbformat_minor": 4
}
